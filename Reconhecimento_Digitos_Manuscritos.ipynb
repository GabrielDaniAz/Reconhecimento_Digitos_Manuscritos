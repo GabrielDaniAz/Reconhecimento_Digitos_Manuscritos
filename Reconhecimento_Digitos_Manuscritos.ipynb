{
 "cells": [
  {
   "cell_type": "markdown",
   "id": "dae2b6b9-e6c7-458c-8549-1c9f1436e086",
   "metadata": {},
   "source": [
    "# Reconhecimento de Dígitos Manuscritos"
   ]
  },
  {
   "cell_type": "markdown",
   "id": "ea141e1c-6e82-482a-b737-3849d5e1cacb",
   "metadata": {},
   "source": [
    "#### Importações"
   ]
  },
  {
   "cell_type": "code",
   "execution_count": 1,
   "id": "d114c1a3-18f2-44fe-967a-778a3c3180fa",
   "metadata": {},
   "outputs": [],
   "source": [
    "# Para leitura do conjunto de dados MNIST\n",
    "from sklearn.datasets import fetch_openml\n",
    "import pandas as pd\n",
    "\n",
    "# Para pré-processamento de dados\n",
    "from sklearn.preprocessing import StandardScaler\n",
    "\n",
    "# Para treinamento de dados\n",
    "from sklearn.model_selection import train_test_split\n",
    "from sklearn.neighbors import KNeighborsClassifier\n",
    "\n",
    "# Para avaliar resultados\n",
    "from sklearn.metrics import accuracy_score, confusion_matrix, classification_report\n",
    "\n",
    "# Para visualizar graficamente\n",
    "import seaborn as sns\n",
    "import matplotlib.pyplot as plt\n",
    "\n",
    "# Para escolher figuras aleatóriamente\n",
    "import numpy as np"
   ]
  },
  {
   "cell_type": "markdown",
   "id": "e44f75bc-6280-4771-bd91-fe62ee7df30d",
   "metadata": {},
   "source": [
    "#### Funções"
   ]
  },
  {
   "cell_type": "code",
   "execution_count": 2,
   "id": "707ba724-e1ca-4b42-b71b-506ea812a082",
   "metadata": {},
   "outputs": [],
   "source": [
    "# Função apenas para auxiliar na visualização das informações\n",
    "def print_separator():\n",
    "    print('\\n\\n'+ '#'*40 +'\\n\\n')"
   ]
  },
  {
   "cell_type": "code",
   "execution_count": 3,
   "id": "bd37d2e9-74bb-4a70-a9db-7bae25bc1d03",
   "metadata": {},
   "outputs": [],
   "source": [
    "# Função para plotar as imagens\n",
    "def plot_images_with_predictions(images, predictions, labels, num_images=5):\n",
    "    plt.figure(figsize=(25,3)) # Tamanho da figura\n",
    "    for i in range(num_images):\n",
    "        plt.subplot(1, num_images, i+1) # Posição da imagem\n",
    "        plt.imshow(images[i].reshape(28,28), cmap='gray')\n",
    "        plt.title(f'Previsto: {str(predictions[i])}, Real: {labels.iloc[i]}') # predictions é um array do numpy, labels é uma Series do pandas\n",
    "        plt.axis('off') # Retira os valores dos eixos\n",
    "    plt.show()"
   ]
  },
  {
   "cell_type": "markdown",
   "id": "47a5ae6a-29d2-470d-afee-e9d41cfe3dd6",
   "metadata": {},
   "source": [
    "#### Carregar conjunto de dados MNIST"
   ]
  },
  {
   "cell_type": "code",
   "execution_count": 4,
   "id": "bf2c558f-27be-4663-8d96-b7d9a6f8997b",
   "metadata": {},
   "outputs": [],
   "source": [
    "# Este conjunto de dados possui imagens de dígitos 28x28\n",
    "# Carregamos a versão 1 pois é a mais comum utilizada\n",
    "# as_frame=True para carregar como um DataFrame do pandas\n",
    "mnist = fetch_openml('mnist_784', version=1, as_frame=True)"
   ]
  },
  {
   "cell_type": "code",
   "execution_count": 5,
   "id": "74cbed3c-f30e-4b3c-a309-472e062e90a8",
   "metadata": {},
   "outputs": [],
   "source": [
    "# Atribuindo as informações ao DataFrame do pandas\n",
    "df = pd.DataFrame(mnist.data, columns=mnist.feature_names)\n",
    "df['target'] = mnist.target"
   ]
  },
  {
   "cell_type": "code",
   "execution_count": 6,
   "id": "a43dc96d-e2fb-4c94-9429-74bf3aa951b5",
   "metadata": {
    "collapsed": true,
    "jupyter": {
     "outputs_hidden": true
    },
    "tags": []
   },
   "outputs": [
    {
     "name": "stdout",
     "output_type": "stream",
     "text": [
      "   pixel1  pixel2  pixel3  pixel4  pixel5  pixel6  pixel7  pixel8  pixel9  \\\n",
      "0     0.0     0.0     0.0     0.0     0.0     0.0     0.0     0.0     0.0   \n",
      "1     0.0     0.0     0.0     0.0     0.0     0.0     0.0     0.0     0.0   \n",
      "2     0.0     0.0     0.0     0.0     0.0     0.0     0.0     0.0     0.0   \n",
      "3     0.0     0.0     0.0     0.0     0.0     0.0     0.0     0.0     0.0   \n",
      "4     0.0     0.0     0.0     0.0     0.0     0.0     0.0     0.0     0.0   \n",
      "\n",
      "   pixel10  ...  pixel776  pixel777  pixel778  pixel779  pixel780  pixel781  \\\n",
      "0      0.0  ...       0.0       0.0       0.0       0.0       0.0       0.0   \n",
      "1      0.0  ...       0.0       0.0       0.0       0.0       0.0       0.0   \n",
      "2      0.0  ...       0.0       0.0       0.0       0.0       0.0       0.0   \n",
      "3      0.0  ...       0.0       0.0       0.0       0.0       0.0       0.0   \n",
      "4      0.0  ...       0.0       0.0       0.0       0.0       0.0       0.0   \n",
      "\n",
      "   pixel782  pixel783  pixel784  target  \n",
      "0       0.0       0.0       0.0       5  \n",
      "1       0.0       0.0       0.0       0  \n",
      "2       0.0       0.0       0.0       4  \n",
      "3       0.0       0.0       0.0       1  \n",
      "4       0.0       0.0       0.0       9  \n",
      "\n",
      "[5 rows x 785 columns]\n",
      "\n",
      "\n",
      "########################################\n",
      "\n",
      "\n",
      "<class 'pandas.core.frame.DataFrame'>\n",
      "RangeIndex: 70000 entries, 0 to 69999\n",
      "Columns: 785 entries, pixel1 to target\n",
      "dtypes: category(1), float64(784)\n",
      "memory usage: 418.8 MB\n",
      "None\n",
      "\n",
      "\n",
      "########################################\n",
      "\n",
      "\n",
      "pixel1       float64\n",
      "pixel2       float64\n",
      "pixel3       float64\n",
      "pixel4       float64\n",
      "pixel5       float64\n",
      "              ...   \n",
      "pixel781     float64\n",
      "pixel782     float64\n",
      "pixel783     float64\n",
      "pixel784     float64\n",
      "target      category\n",
      "Length: 785, dtype: object\n"
     ]
    }
   ],
   "source": [
    "# Obter informações do DataFrame\n",
    "print(df.head())\n",
    "print_separator()\n",
    "print(df.info())\n",
    "print_separator()\n",
    "print(df.dtypes)"
   ]
  },
  {
   "cell_type": "markdown",
   "id": "b0120b5b-2568-43a3-ac62-5156b8b1c88b",
   "metadata": {},
   "source": [
    "#### Preparar conjunto de dados para treinamento"
   ]
  },
  {
   "cell_type": "code",
   "execution_count": 7,
   "id": "5d7ae930-af8f-4b88-949b-3cf32279dfaa",
   "metadata": {},
   "outputs": [],
   "source": [
    "# Separar variáveis do DataFrame\n",
    "X = df.drop('target', axis=1) # Atributos são todas as colunas, exceto a coluna \"target\"\n",
    "y = df['target'] # Classe é a coluna \"target\", a qual indica qual número realmente está na imagem"
   ]
  },
  {
   "cell_type": "code",
   "execution_count": 8,
   "id": "7651f22f-461a-4988-b6f3-551ca85fa02a",
   "metadata": {},
   "outputs": [],
   "source": [
    "# Normalizar os dados\n",
    "scaler = StandardScaler()\n",
    "X_scaled = scaler.fit_transform(X)"
   ]
  },
  {
   "cell_type": "code",
   "execution_count": 9,
   "id": "6e0ad27f-22db-49da-8dcd-b90d4bf69f55",
   "metadata": {},
   "outputs": [],
   "source": [
    "# Separar dados para treino (80%) e teste (20%)\n",
    "X_train, X_test, y_train, y_test = train_test_split(X_scaled, y, test_size=0.2, random_state=42)"
   ]
  },
  {
   "cell_type": "code",
   "execution_count": 10,
   "id": "d7852179-efbb-490e-a97c-2c48a8ea1d0a",
   "metadata": {
    "collapsed": true,
    "jupyter": {
     "outputs_hidden": true
    },
    "tags": []
   },
   "outputs": [
    {
     "data": {
      "text/plain": [
       "KNeighborsClassifier()"
      ]
     },
     "execution_count": 10,
     "metadata": {},
     "output_type": "execute_result"
    }
   ],
   "source": [
    "# Treinar modelo K-Nearest Neighbors\n",
    "# Modelo simples e eficaz para problemas de reconhecimento padrões\n",
    "knn = KNeighborsClassifier(n_neighbors=5) # Considera 5 vizinhos para tomar decisão (colocar número ímpar para não empatar na votação de classes)\n",
    "knn.fit(X_train, y_train)"
   ]
  },
  {
   "cell_type": "code",
   "execution_count": 11,
   "id": "15a9a380-fd05-498e-8244-1cf3366314d7",
   "metadata": {},
   "outputs": [],
   "source": [
    "# Prever resposta\n",
    "y_pred = knn.predict(X_test)"
   ]
  },
  {
   "cell_type": "markdown",
   "id": "73308eb7-4f8d-4d10-b7ef-b7875953f277",
   "metadata": {},
   "source": [
    "#### Avaliar o modelo"
   ]
  },
  {
   "cell_type": "code",
   "execution_count": 12,
   "id": "1a5c8792-72be-4720-bbe7-6d4a4781731d",
   "metadata": {},
   "outputs": [],
   "source": [
    "# Obter resultados\n",
    "# Matriz de confusão\n",
    "confusion_mat = confusion_matrix(y_test, y_pred)\n",
    "# Acurácia\n",
    "accuracy = accuracy_score(y_test, y_pred)\n",
    "# Relatório de classificação\n",
    "classification_rep = classification_report(y_test, y_pred)"
   ]
  },
  {
   "cell_type": "code",
   "execution_count": 13,
   "id": "9ce6090a-1e0d-46d2-b09b-49218361f4bc",
   "metadata": {
    "collapsed": true,
    "jupyter": {
     "outputs_hidden": true
    },
    "tags": []
   },
   "outputs": [
    {
     "name": "stdout",
     "output_type": "stream",
     "text": [
      "Acurácia: 94.6%\n",
      "\n",
      "\n",
      "########################################\n",
      "\n",
      "\n",
      "Relatório de Classificação\n",
      "              precision    recall  f1-score   support\n",
      "\n",
      "           0       0.97      0.98      0.97      1343\n",
      "           1       0.95      0.99      0.97      1600\n",
      "           2       0.95      0.93      0.94      1380\n",
      "           3       0.93      0.95      0.94      1433\n",
      "           4       0.94      0.93      0.94      1295\n",
      "           5       0.94      0.94      0.94      1273\n",
      "           6       0.97      0.97      0.97      1396\n",
      "           7       0.94      0.93      0.94      1503\n",
      "           8       0.97      0.89      0.93      1357\n",
      "           9       0.90      0.92      0.91      1420\n",
      "\n",
      "    accuracy                           0.95     14000\n",
      "   macro avg       0.95      0.95      0.95     14000\n",
      "weighted avg       0.95      0.95      0.95     14000\n",
      "\n",
      "\n",
      "\n",
      "########################################\n",
      "\n",
      "\n"
     ]
    },
    {
     "data": {
      "image/png": "[encoded data removed]",
      "text/plain": [
       "<Figure size 720x576 with 2 Axes>"
      ]
     },
     "metadata": {
      "needs_background": "light"
     },
     "output_type": "display_data"
    }
   ],
   "source": [
    "# Printar valores dos resultados\n",
    "print(f'Acurácia: {accuracy*100:.1f}%')\n",
    "print_separator()\n",
    "\n",
    "print('Relatório de Classificação')\n",
    "print(classification_rep)\n",
    "print_separator()\n",
    "\n",
    "# Plotar gráfico da matriz de confusão\n",
    "plt.figure(figsize=(10,8))\n",
    "sns.heatmap(confusion_mat, annot=True, fmt='d', cmap='Blues')\n",
    "plt.xlabel('Previsão')\n",
    "plt.ylabel('Valor Real')\n",
    "plt.title('Matriz de Confusão')\n",
    "plt.show()"
   ]
  },
  {
   "cell_type": "code",
   "execution_count": 14,
   "id": "196650c2-baff-498a-b39d-ba5e4669e34c",
   "metadata": {
    "collapsed": true,
    "jupyter": {
     "outputs_hidden": true
    },
    "tags": []
   },
   "outputs": [
    {
     "data": {
      "image/png": "[encoded data removed]",
      "text/plain": [
       "<Figure size 1800x216 with 8 Axes>"
      ]
     },
     "metadata": {
      "needs_background": "light"
     },
     "output_type": "display_data"
    }
   ],
   "source": [
    "# Avaliar visualmente as previsões diante \n",
    "num_images = 8\n",
    "sample_indices = np.random.choice(range(len(y_test)), num_images, replace=False) # Sorteio dos índices\n",
    "# Pegar amostras dos pixeis, valores da previsão e valores reais de cada índice sorteado\n",
    "sample_images = X_test[sample_indices]\n",
    "sample_predictions = y_pred[sample_indices]\n",
    "sample_labels = y_test.iloc[sample_indices]\n",
    "# Plotar gráfico através da função criada neste projeto\n",
    "plot_images_with_predictions(sample_images, sample_predictions, sample_labels, num_images)"
   ]
  }
 ],
 "metadata": {
  "kernelspec": {
   "display_name": "Python 3 (ipykernel)",
   "language": "python",
   "name": "python3"
  },
  "language_info": {
   "codemirror_mode": {
    "name": "ipython",
    "version": 3
   },
   "file_extension": ".py",
   "mimetype": "text/x-python",
   "name": "python",
   "nbconvert_exporter": "python",
   "pygments_lexer": "ipython3",
   "version": "3.9.12"
  }
 },
 "nbformat": 4,
 "nbformat_minor": 5
}
